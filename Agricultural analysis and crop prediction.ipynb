{
 "cells": [
  {
   "cell_type": "markdown",
   "metadata": {},
   "source": [
    "<center><h1> AGRICULTURE ANALYSIS AND PREDICTION </h1></center>\n",
    "\n",
    "\n",
    "\n",
    "\n",
    "\n",
    "\n"
   ]
  },
  {
   "cell_type": "markdown",
   "metadata": {},
   "source": [
    "#### In this data set, we have taken 5 types of Soil - Alluvial, Red, Black, Mountain and Laterite. Month column is encoded with January to December as 0 to 11. State are encoded in alphabetical order and with last 5 as union territories as per the geo-political data of F.Y 2014. Other columns are the different types of crops grown and their priority."
   ]
  },
  {
   "cell_type": "code",
   "execution_count": 45,
   "metadata": {},
   "outputs": [],
   "source": [
    "import itertools\n",
    "import pandas as pd\n",
    "import numpy as np\n",
    "import matplotlib.pyplot as plt\n",
    "from matplotlib.ticker import NullFormatter\n",
    "import matplotlib.ticker as ticker\n",
    "from sklearn import preprocessing\n",
    "%matplotlib inline"
   ]
  },
  {
   "cell_type": "code",
   "execution_count": 46,
   "metadata": {},
   "outputs": [
    {
     "data": {
      "text/html": [
       "<div>\n",
       "<style scoped>\n",
       "    .dataframe tbody tr th:only-of-type {\n",
       "        vertical-align: middle;\n",
       "    }\n",
       "\n",
       "    .dataframe tbody tr th {\n",
       "        vertical-align: top;\n",
       "    }\n",
       "\n",
       "    .dataframe thead th {\n",
       "        text-align: right;\n",
       "    }\n",
       "</style>\n",
       "<table border=\"1\" class=\"dataframe\">\n",
       "  <thead>\n",
       "    <tr style=\"text-align: right;\">\n",
       "      <th></th>\n",
       "      <th>State</th>\n",
       "      <th>Crop</th>\n",
       "      <th>Profit</th>\n",
       "      <th>Yield</th>\n",
       "      <th>Month of highest rainfall</th>\n",
       "      <th>Month of lowest rainfall</th>\n",
       "      <th>Suggested or not</th>\n",
       "    </tr>\n",
       "  </thead>\n",
       "  <tbody>\n",
       "    <tr>\n",
       "      <th>0</th>\n",
       "      <td>Andhra Pradesh</td>\n",
       "      <td>Rice</td>\n",
       "      <td>63851.839100</td>\n",
       "      <td>2921.1860</td>\n",
       "      <td>6</td>\n",
       "      <td>1</td>\n",
       "      <td>1</td>\n",
       "    </tr>\n",
       "    <tr>\n",
       "      <th>1</th>\n",
       "      <td>Andhra Pradesh</td>\n",
       "      <td>Wheat</td>\n",
       "      <td>1.000000</td>\n",
       "      <td>792.5500</td>\n",
       "      <td>6</td>\n",
       "      <td>1</td>\n",
       "      <td>0</td>\n",
       "    </tr>\n",
       "    <tr>\n",
       "      <th>2</th>\n",
       "      <td>Andhra Pradesh</td>\n",
       "      <td>Cotton</td>\n",
       "      <td>1.000000</td>\n",
       "      <td>337.1242</td>\n",
       "      <td>6</td>\n",
       "      <td>1</td>\n",
       "      <td>0</td>\n",
       "    </tr>\n",
       "    <tr>\n",
       "      <th>3</th>\n",
       "      <td>Arunachal Pradesh</td>\n",
       "      <td>Rice</td>\n",
       "      <td>999.586564</td>\n",
       "      <td>1190.4790</td>\n",
       "      <td>8</td>\n",
       "      <td>12</td>\n",
       "      <td>1</td>\n",
       "    </tr>\n",
       "    <tr>\n",
       "      <th>4</th>\n",
       "      <td>Arunachal Pradesh</td>\n",
       "      <td>Wheat</td>\n",
       "      <td>2388.555551</td>\n",
       "      <td>1641.0000</td>\n",
       "      <td>8</td>\n",
       "      <td>12</td>\n",
       "      <td>1</td>\n",
       "    </tr>\n",
       "  </tbody>\n",
       "</table>\n",
       "</div>"
      ],
      "text/plain": [
       "                State    Crop        Profit      Yield  \\\n",
       "0      Andhra Pradesh    Rice  63851.839100  2921.1860   \n",
       "1      Andhra Pradesh   Wheat      1.000000   792.5500   \n",
       "2      Andhra Pradesh  Cotton      1.000000   337.1242   \n",
       "3  Arunachal Pradesh     Rice    999.586564  1190.4790   \n",
       "4  Arunachal Pradesh    Wheat   2388.555551  1641.0000   \n",
       "\n",
       "   Month of highest rainfall  Month of lowest rainfall  Suggested or not  \n",
       "0                          6                         1                 1  \n",
       "1                          6                         1                 0  \n",
       "2                          6                         1                 0  \n",
       "3                          8                        12                 1  \n",
       "4                          8                        12                 1  "
      ]
     },
     "execution_count": 46,
     "metadata": {},
     "output_type": "execute_result"
    }
   ],
   "source": [
    "df = pd.read_csv('data.csv')\n",
    "df.head()"
   ]
  },
  {
   "cell_type": "code",
   "execution_count": 47,
   "metadata": {},
   "outputs": [
    {
     "data": {
      "image/png": "[encoded data removed]",
      "text/plain": [
       "<Figure size 432x432 with 3 Axes>"
      ]
     },
     "metadata": {
      "needs_background": "light"
     },
     "output_type": "display_data"
    }
   ],
   "source": [
    "import seaborn as sns\n",
    "bins = np.linspace(df.Profit.min(), df.Profit.max(), 10)\n",
    "g = sns.FacetGrid(df, col=\"Crop\", hue=\"Profit\", palette=\"Set1\", col_wrap=2)\n",
    "g.map(plt.hist, 'Profit', bins=bins, ec=\"k\")\n",
    "g.axes[-1].legend()\n",
    "plt.show()"
   ]
  },
  {
   "cell_type": "code",
   "execution_count": 48,
   "metadata": {},
   "outputs": [
    {
     "data": {
      "text/html": [
       "<div>\n",
       "<style scoped>\n",
       "    .dataframe tbody tr th:only-of-type {\n",
       "        vertical-align: middle;\n",
       "    }\n",
       "\n",
       "    .dataframe tbody tr th {\n",
       "        vertical-align: top;\n",
       "    }\n",
       "\n",
       "    .dataframe thead th {\n",
       "        text-align: right;\n",
       "    }\n",
       "</style>\n",
       "<table border=\"1\" class=\"dataframe\">\n",
       "  <thead>\n",
       "    <tr style=\"text-align: right;\">\n",
       "      <th></th>\n",
       "      <th>State</th>\n",
       "      <th>Crop</th>\n",
       "      <th>Profit</th>\n",
       "      <th>Yield</th>\n",
       "      <th>Month of highest rainfall</th>\n",
       "      <th>Month of lowest rainfall</th>\n",
       "      <th>Suggested or not</th>\n",
       "    </tr>\n",
       "  </thead>\n",
       "  <tbody>\n",
       "    <tr>\n",
       "      <th>0</th>\n",
       "      <td>Andhra Pradesh</td>\n",
       "      <td>0</td>\n",
       "      <td>63851.839100</td>\n",
       "      <td>2921.1860</td>\n",
       "      <td>6</td>\n",
       "      <td>1</td>\n",
       "      <td>1</td>\n",
       "    </tr>\n",
       "    <tr>\n",
       "      <th>1</th>\n",
       "      <td>Andhra Pradesh</td>\n",
       "      <td>1</td>\n",
       "      <td>1.000000</td>\n",
       "      <td>792.5500</td>\n",
       "      <td>6</td>\n",
       "      <td>1</td>\n",
       "      <td>0</td>\n",
       "    </tr>\n",
       "    <tr>\n",
       "      <th>2</th>\n",
       "      <td>Andhra Pradesh</td>\n",
       "      <td>2</td>\n",
       "      <td>1.000000</td>\n",
       "      <td>337.1242</td>\n",
       "      <td>6</td>\n",
       "      <td>1</td>\n",
       "      <td>0</td>\n",
       "    </tr>\n",
       "    <tr>\n",
       "      <th>3</th>\n",
       "      <td>Arunachal Pradesh</td>\n",
       "      <td>0</td>\n",
       "      <td>999.586564</td>\n",
       "      <td>1190.4790</td>\n",
       "      <td>8</td>\n",
       "      <td>12</td>\n",
       "      <td>1</td>\n",
       "    </tr>\n",
       "    <tr>\n",
       "      <th>4</th>\n",
       "      <td>Arunachal Pradesh</td>\n",
       "      <td>1</td>\n",
       "      <td>2388.555551</td>\n",
       "      <td>1641.0000</td>\n",
       "      <td>8</td>\n",
       "      <td>12</td>\n",
       "      <td>1</td>\n",
       "    </tr>\n",
       "  </tbody>\n",
       "</table>\n",
       "</div>"
      ],
      "text/plain": [
       "                State  Crop        Profit      Yield  \\\n",
       "0      Andhra Pradesh     0  63851.839100  2921.1860   \n",
       "1      Andhra Pradesh     1      1.000000   792.5500   \n",
       "2      Andhra Pradesh     2      1.000000   337.1242   \n",
       "3  Arunachal Pradesh      0    999.586564  1190.4790   \n",
       "4  Arunachal Pradesh      1   2388.555551  1641.0000   \n",
       "\n",
       "   Month of highest rainfall  Month of lowest rainfall  Suggested or not  \n",
       "0                          6                         1                 1  \n",
       "1                          6                         1                 0  \n",
       "2                          6                         1                 0  \n",
       "3                          8                        12                 1  \n",
       "4                          8                        12                 1  "
      ]
     },
     "execution_count": 48,
     "metadata": {},
     "output_type": "execute_result"
    }
   ],
   "source": [
    "df['Crop'].replace(to_replace=['Rice','Wheat','Cotton'], value=[0,1,2],inplace=True)\n",
    "df.head()"
   ]
  },
  {
   "cell_type": "markdown",
   "metadata": {},
   "source": [
    "## Data Visualization and analysis"
   ]
  },
  {
   "cell_type": "markdown",
   "metadata": {},
   "source": [
    "For basic understanding of the data and inter relations between attributes"
   ]
  },
  {
   "cell_type": "code",
   "execution_count": 49,
   "metadata": {},
   "outputs": [
    {
     "data": {
      "image/png": "[encoded data removed]",
      "text/plain": [
       "<Figure size 432x288 with 1 Axes>"
      ]
     },
     "metadata": {
      "needs_background": "light"
     },
     "output_type": "display_data"
    }
   ],
   "source": [
    "plt.bar(df.State, df.Profit,  color='blue')\n",
    "plt.xlabel(\"State\")\n",
    "plt.ylabel(\"Consolidated Profit\")\n",
    "plt.show()"
   ]
  },
  {
   "cell_type": "code",
   "execution_count": 50,
   "metadata": {},
   "outputs": [
    {
     "data": {
      "image/png": "[encoded data removed]",
      "text/plain": [
       "<Figure size 432x288 with 1 Axes>"
      ]
     },
     "metadata": {
      "needs_background": "light"
     },
     "output_type": "display_data"
    }
   ],
   "source": [
    "plt.bar(df.Crop, df.Profit,  color='brown') \n",
    "plt.xlabel(\"RICE                    WHEAT                   COTTON\")\n",
    "plt.ylabel(\"Overall Profit (LUMP)\")\n",
    "plt.show()"
   ]
  },
  {
   "cell_type": "code",
   "execution_count": 51,
   "metadata": {},
   "outputs": [
    {
     "data": {
      "text/html": [
       "<div>\n",
       "<style scoped>\n",
       "    .dataframe tbody tr th:only-of-type {\n",
       "        vertical-align: middle;\n",
       "    }\n",
       "\n",
       "    .dataframe tbody tr th {\n",
       "        vertical-align: top;\n",
       "    }\n",
       "\n",
       "    .dataframe thead th {\n",
       "        text-align: right;\n",
       "    }\n",
       "</style>\n",
       "<table border=\"1\" class=\"dataframe\">\n",
       "  <thead>\n",
       "    <tr style=\"text-align: right;\">\n",
       "      <th></th>\n",
       "      <th>Crop</th>\n",
       "      <th>Profit</th>\n",
       "      <th>Yield</th>\n",
       "      <th>Month of highest rainfall</th>\n",
       "      <th>Month of lowest rainfall</th>\n",
       "      <th>A &amp; N Islands</th>\n",
       "      <th>Andhra Pradesh</th>\n",
       "      <th>Arunachal Pradesh</th>\n",
       "      <th>Assam</th>\n",
       "      <th>Bihar</th>\n",
       "      <th>...</th>\n",
       "      <th>Orissa</th>\n",
       "      <th>Puducherry</th>\n",
       "      <th>Punjab</th>\n",
       "      <th>Rajasthan</th>\n",
       "      <th>Sikkim</th>\n",
       "      <th>Tamil Nadu</th>\n",
       "      <th>Tripura</th>\n",
       "      <th>Uttar Pradesh</th>\n",
       "      <th>Uttarakhand</th>\n",
       "      <th>West Bengal</th>\n",
       "    </tr>\n",
       "  </thead>\n",
       "  <tbody>\n",
       "    <tr>\n",
       "      <th>0</th>\n",
       "      <td>0</td>\n",
       "      <td>63851.839100</td>\n",
       "      <td>2921.1860</td>\n",
       "      <td>6</td>\n",
       "      <td>1</td>\n",
       "      <td>0</td>\n",
       "      <td>1</td>\n",
       "      <td>0</td>\n",
       "      <td>0</td>\n",
       "      <td>0</td>\n",
       "      <td>...</td>\n",
       "      <td>0</td>\n",
       "      <td>0</td>\n",
       "      <td>0</td>\n",
       "      <td>0</td>\n",
       "      <td>0</td>\n",
       "      <td>0</td>\n",
       "      <td>0</td>\n",
       "      <td>0</td>\n",
       "      <td>0</td>\n",
       "      <td>0</td>\n",
       "    </tr>\n",
       "    <tr>\n",
       "      <th>1</th>\n",
       "      <td>1</td>\n",
       "      <td>1.000000</td>\n",
       "      <td>792.5500</td>\n",
       "      <td>6</td>\n",
       "      <td>1</td>\n",
       "      <td>0</td>\n",
       "      <td>1</td>\n",
       "      <td>0</td>\n",
       "      <td>0</td>\n",
       "      <td>0</td>\n",
       "      <td>...</td>\n",
       "      <td>0</td>\n",
       "      <td>0</td>\n",
       "      <td>0</td>\n",
       "      <td>0</td>\n",
       "      <td>0</td>\n",
       "      <td>0</td>\n",
       "      <td>0</td>\n",
       "      <td>0</td>\n",
       "      <td>0</td>\n",
       "      <td>0</td>\n",
       "    </tr>\n",
       "    <tr>\n",
       "      <th>2</th>\n",
       "      <td>2</td>\n",
       "      <td>1.000000</td>\n",
       "      <td>337.1242</td>\n",
       "      <td>6</td>\n",
       "      <td>1</td>\n",
       "      <td>0</td>\n",
       "      <td>1</td>\n",
       "      <td>0</td>\n",
       "      <td>0</td>\n",
       "      <td>0</td>\n",
       "      <td>...</td>\n",
       "      <td>0</td>\n",
       "      <td>0</td>\n",
       "      <td>0</td>\n",
       "      <td>0</td>\n",
       "      <td>0</td>\n",
       "      <td>0</td>\n",
       "      <td>0</td>\n",
       "      <td>0</td>\n",
       "      <td>0</td>\n",
       "      <td>0</td>\n",
       "    </tr>\n",
       "    <tr>\n",
       "      <th>3</th>\n",
       "      <td>0</td>\n",
       "      <td>999.586564</td>\n",
       "      <td>1190.4790</td>\n",
       "      <td>8</td>\n",
       "      <td>12</td>\n",
       "      <td>0</td>\n",
       "      <td>0</td>\n",
       "      <td>1</td>\n",
       "      <td>0</td>\n",
       "      <td>0</td>\n",
       "      <td>...</td>\n",
       "      <td>0</td>\n",
       "      <td>0</td>\n",
       "      <td>0</td>\n",
       "      <td>0</td>\n",
       "      <td>0</td>\n",
       "      <td>0</td>\n",
       "      <td>0</td>\n",
       "      <td>0</td>\n",
       "      <td>0</td>\n",
       "      <td>0</td>\n",
       "    </tr>\n",
       "    <tr>\n",
       "      <th>4</th>\n",
       "      <td>1</td>\n",
       "      <td>2388.555551</td>\n",
       "      <td>1641.0000</td>\n",
       "      <td>8</td>\n",
       "      <td>12</td>\n",
       "      <td>0</td>\n",
       "      <td>0</td>\n",
       "      <td>1</td>\n",
       "      <td>0</td>\n",
       "      <td>0</td>\n",
       "      <td>...</td>\n",
       "      <td>0</td>\n",
       "      <td>0</td>\n",
       "      <td>0</td>\n",
       "      <td>0</td>\n",
       "      <td>0</td>\n",
       "      <td>0</td>\n",
       "      <td>0</td>\n",
       "      <td>0</td>\n",
       "      <td>0</td>\n",
       "      <td>0</td>\n",
       "    </tr>\n",
       "  </tbody>\n",
       "</table>\n",
       "<p>5 rows × 40 columns</p>\n",
       "</div>"
      ],
      "text/plain": [
       "   Crop        Profit      Yield  Month of highest rainfall  \\\n",
       "0     0  63851.839100  2921.1860                          6   \n",
       "1     1      1.000000   792.5500                          6   \n",
       "2     2      1.000000   337.1242                          6   \n",
       "3     0    999.586564  1190.4790                          8   \n",
       "4     1   2388.555551  1641.0000                          8   \n",
       "\n",
       "   Month of lowest rainfall  A & N Islands  Andhra Pradesh  \\\n",
       "0                         1              0               1   \n",
       "1                         1              0               1   \n",
       "2                         1              0               1   \n",
       "3                        12              0               0   \n",
       "4                        12              0               0   \n",
       "\n",
       "   Arunachal Pradesh   Assam  Bihar     ...       Orissa  Puducherry  Punjab  \\\n",
       "0                   0      0      0     ...            0           0       0   \n",
       "1                   0      0      0     ...            0           0       0   \n",
       "2                   0      0      0     ...            0           0       0   \n",
       "3                   1      0      0     ...            0           0       0   \n",
       "4                   1      0      0     ...            0           0       0   \n",
       "\n",
       "   Rajasthan  Sikkim  Tamil Nadu  Tripura  Uttar Pradesh  Uttarakhand  \\\n",
       "0          0       0           0        0              0            0   \n",
       "1          0       0           0        0              0            0   \n",
       "2          0       0           0        0              0            0   \n",
       "3          0       0           0        0              0            0   \n",
       "4          0       0           0        0              0            0   \n",
       "\n",
       "   West Bengal  \n",
       "0            0  \n",
       "1            0  \n",
       "2            0  \n",
       "3            0  \n",
       "4            0  \n",
       "\n",
       "[5 rows x 40 columns]"
      ]
     },
     "execution_count": 51,
     "metadata": {},
     "output_type": "execute_result"
    }
   ],
   "source": [
    "Feature = df[['State','Crop','Profit','Yield','Month of highest rainfall','Month of lowest rainfall']]\n",
    "Feature = pd.concat([Feature,pd.get_dummies(df['State'])], axis=1)\n",
    "Feature.drop(['State'],axis = 1,inplace=True)\n",
    "Feature.head()"
   ]
  },
  {
   "cell_type": "code",
   "execution_count": 52,
   "metadata": {},
   "outputs": [
    {
     "data": {
      "text/html": [
       "<div>\n",
       "<style scoped>\n",
       "    .dataframe tbody tr th:only-of-type {\n",
       "        vertical-align: middle;\n",
       "    }\n",
       "\n",
       "    .dataframe tbody tr th {\n",
       "        vertical-align: top;\n",
       "    }\n",
       "\n",
       "    .dataframe thead th {\n",
       "        text-align: right;\n",
       "    }\n",
       "</style>\n",
       "<table border=\"1\" class=\"dataframe\">\n",
       "  <thead>\n",
       "    <tr style=\"text-align: right;\">\n",
       "      <th></th>\n",
       "      <th>Crop</th>\n",
       "      <th>Profit</th>\n",
       "      <th>Yield</th>\n",
       "      <th>Month of highest rainfall</th>\n",
       "      <th>Month of lowest rainfall</th>\n",
       "      <th>A &amp; N Islands</th>\n",
       "      <th>Andhra Pradesh</th>\n",
       "      <th>Arunachal Pradesh</th>\n",
       "      <th>Assam</th>\n",
       "      <th>Bihar</th>\n",
       "      <th>...</th>\n",
       "      <th>Orissa</th>\n",
       "      <th>Puducherry</th>\n",
       "      <th>Punjab</th>\n",
       "      <th>Rajasthan</th>\n",
       "      <th>Sikkim</th>\n",
       "      <th>Tamil Nadu</th>\n",
       "      <th>Tripura</th>\n",
       "      <th>Uttar Pradesh</th>\n",
       "      <th>Uttarakhand</th>\n",
       "      <th>West Bengal</th>\n",
       "    </tr>\n",
       "  </thead>\n",
       "  <tbody>\n",
       "    <tr>\n",
       "      <th>0</th>\n",
       "      <td>0</td>\n",
       "      <td>63851.839100</td>\n",
       "      <td>2921.1860</td>\n",
       "      <td>6</td>\n",
       "      <td>1</td>\n",
       "      <td>0</td>\n",
       "      <td>1</td>\n",
       "      <td>0</td>\n",
       "      <td>0</td>\n",
       "      <td>0</td>\n",
       "      <td>...</td>\n",
       "      <td>0</td>\n",
       "      <td>0</td>\n",
       "      <td>0</td>\n",
       "      <td>0</td>\n",
       "      <td>0</td>\n",
       "      <td>0</td>\n",
       "      <td>0</td>\n",
       "      <td>0</td>\n",
       "      <td>0</td>\n",
       "      <td>0</td>\n",
       "    </tr>\n",
       "    <tr>\n",
       "      <th>1</th>\n",
       "      <td>1</td>\n",
       "      <td>1.000000</td>\n",
       "      <td>792.5500</td>\n",
       "      <td>6</td>\n",
       "      <td>1</td>\n",
       "      <td>0</td>\n",
       "      <td>1</td>\n",
       "      <td>0</td>\n",
       "      <td>0</td>\n",
       "      <td>0</td>\n",
       "      <td>...</td>\n",
       "      <td>0</td>\n",
       "      <td>0</td>\n",
       "      <td>0</td>\n",
       "      <td>0</td>\n",
       "      <td>0</td>\n",
       "      <td>0</td>\n",
       "      <td>0</td>\n",
       "      <td>0</td>\n",
       "      <td>0</td>\n",
       "      <td>0</td>\n",
       "    </tr>\n",
       "    <tr>\n",
       "      <th>2</th>\n",
       "      <td>2</td>\n",
       "      <td>1.000000</td>\n",
       "      <td>337.1242</td>\n",
       "      <td>6</td>\n",
       "      <td>1</td>\n",
       "      <td>0</td>\n",
       "      <td>1</td>\n",
       "      <td>0</td>\n",
       "      <td>0</td>\n",
       "      <td>0</td>\n",
       "      <td>...</td>\n",
       "      <td>0</td>\n",
       "      <td>0</td>\n",
       "      <td>0</td>\n",
       "      <td>0</td>\n",
       "      <td>0</td>\n",
       "      <td>0</td>\n",
       "      <td>0</td>\n",
       "      <td>0</td>\n",
       "      <td>0</td>\n",
       "      <td>0</td>\n",
       "    </tr>\n",
       "    <tr>\n",
       "      <th>3</th>\n",
       "      <td>0</td>\n",
       "      <td>999.586564</td>\n",
       "      <td>1190.4790</td>\n",
       "      <td>8</td>\n",
       "      <td>12</td>\n",
       "      <td>0</td>\n",
       "      <td>0</td>\n",
       "      <td>1</td>\n",
       "      <td>0</td>\n",
       "      <td>0</td>\n",
       "      <td>...</td>\n",
       "      <td>0</td>\n",
       "      <td>0</td>\n",
       "      <td>0</td>\n",
       "      <td>0</td>\n",
       "      <td>0</td>\n",
       "      <td>0</td>\n",
       "      <td>0</td>\n",
       "      <td>0</td>\n",
       "      <td>0</td>\n",
       "      <td>0</td>\n",
       "    </tr>\n",
       "    <tr>\n",
       "      <th>4</th>\n",
       "      <td>1</td>\n",
       "      <td>2388.555551</td>\n",
       "      <td>1641.0000</td>\n",
       "      <td>8</td>\n",
       "      <td>12</td>\n",
       "      <td>0</td>\n",
       "      <td>0</td>\n",
       "      <td>1</td>\n",
       "      <td>0</td>\n",
       "      <td>0</td>\n",
       "      <td>...</td>\n",
       "      <td>0</td>\n",
       "      <td>0</td>\n",
       "      <td>0</td>\n",
       "      <td>0</td>\n",
       "      <td>0</td>\n",
       "      <td>0</td>\n",
       "      <td>0</td>\n",
       "      <td>0</td>\n",
       "      <td>0</td>\n",
       "      <td>0</td>\n",
       "    </tr>\n",
       "  </tbody>\n",
       "</table>\n",
       "<p>5 rows × 40 columns</p>\n",
       "</div>"
      ],
      "text/plain": [
       "   Crop        Profit      Yield  Month of highest rainfall  \\\n",
       "0     0  63851.839100  2921.1860                          6   \n",
       "1     1      1.000000   792.5500                          6   \n",
       "2     2      1.000000   337.1242                          6   \n",
       "3     0    999.586564  1190.4790                          8   \n",
       "4     1   2388.555551  1641.0000                          8   \n",
       "\n",
       "   Month of lowest rainfall  A & N Islands  Andhra Pradesh  \\\n",
       "0                         1              0               1   \n",
       "1                         1              0               1   \n",
       "2                         1              0               1   \n",
       "3                        12              0               0   \n",
       "4                        12              0               0   \n",
       "\n",
       "   Arunachal Pradesh   Assam  Bihar     ...       Orissa  Puducherry  Punjab  \\\n",
       "0                   0      0      0     ...            0           0       0   \n",
       "1                   0      0      0     ...            0           0       0   \n",
       "2                   0      0      0     ...            0           0       0   \n",
       "3                   1      0      0     ...            0           0       0   \n",
       "4                   1      0      0     ...            0           0       0   \n",
       "\n",
       "   Rajasthan  Sikkim  Tamil Nadu  Tripura  Uttar Pradesh  Uttarakhand  \\\n",
       "0          0       0           0        0              0            0   \n",
       "1          0       0           0        0              0            0   \n",
       "2          0       0           0        0              0            0   \n",
       "3          0       0           0        0              0            0   \n",
       "4          0       0           0        0              0            0   \n",
       "\n",
       "   West Bengal  \n",
       "0            0  \n",
       "1            0  \n",
       "2            0  \n",
       "3            0  \n",
       "4            0  \n",
       "\n",
       "[5 rows x 40 columns]"
      ]
     },
     "execution_count": 52,
     "metadata": {},
     "output_type": "execute_result"
    }
   ],
   "source": [
    "X = Feature\n",
    "X[0:5]"
   ]
  },
  {
   "cell_type": "code",
   "execution_count": 53,
   "metadata": {},
   "outputs": [
    {
     "data": {
      "text/plain": [
       "array([1, 0, 0, 1, 1], dtype=int64)"
      ]
     },
     "execution_count": 53,
     "metadata": {},
     "output_type": "execute_result"
    }
   ],
   "source": [
    "y = df['Suggested or not'].values\n",
    "y[:5]"
   ]
  },
  {
   "cell_type": "code",
   "execution_count": 54,
   "metadata": {},
   "outputs": [
    {
     "name": "stderr",
     "output_type": "stream",
     "text": [
      "C:\\Users\\Satya Teja\\Anaconda3\\lib\\site-packages\\sklearn\\preprocessing\\data.py:625: DataConversionWarning: Data with input dtype uint8, int64, float64 were all converted to float64 by StandardScaler.\n",
      "  return self.partial_fit(X, y)\n",
      "C:\\Users\\Satya Teja\\Anaconda3\\lib\\site-packages\\ipykernel_launcher.py:1: DataConversionWarning: Data with input dtype uint8, int64, float64 were all converted to float64 by StandardScaler.\n",
      "  \"\"\"Entry point for launching an IPython kernel.\n"
     ]
    },
    {
     "data": {
      "text/plain": [
       "array([[-1.22474487,  3.26076343,  1.56987494, -1.86937386, -1.44166613,\n",
       "        -0.17149859,  5.83095189, -0.17149859, -0.17149859, -0.17149859,\n",
       "        -0.17149859, -0.17149859, -0.17149859, -0.17149859, -0.17149859,\n",
       "        -0.17149859, -0.17149859, -0.17149859, -0.17149859, -0.17149859,\n",
       "        -0.17149859, -0.17149859, -0.17149859, -0.17149859, -0.17149859,\n",
       "        -0.17149859, -0.17149859, -0.17149859, -0.17149859, -0.17149859,\n",
       "        -0.17149859, -0.17149859, -0.17149859, -0.17149859, -0.17149859,\n",
       "        -0.17149859, -0.17149859, -0.17149859, -0.17149859, -0.17149859],\n",
       "       [ 0.        , -0.63978844, -0.32854647, -1.86937386, -1.44166613,\n",
       "        -0.17149859,  5.83095189, -0.17149859, -0.17149859, -0.17149859,\n",
       "        -0.17149859, -0.17149859, -0.17149859, -0.17149859, -0.17149859,\n",
       "        -0.17149859, -0.17149859, -0.17149859, -0.17149859, -0.17149859,\n",
       "        -0.17149859, -0.17149859, -0.17149859, -0.17149859, -0.17149859,\n",
       "        -0.17149859, -0.17149859, -0.17149859, -0.17149859, -0.17149859,\n",
       "        -0.17149859, -0.17149859, -0.17149859, -0.17149859, -0.17149859,\n",
       "        -0.17149859, -0.17149859, -0.17149859, -0.17149859, -0.17149859],\n",
       "       [ 1.22474487, -0.63978844, -0.73471742, -1.86937386, -1.44166613,\n",
       "        -0.17149859,  5.83095189, -0.17149859, -0.17149859, -0.17149859,\n",
       "        -0.17149859, -0.17149859, -0.17149859, -0.17149859, -0.17149859,\n",
       "        -0.17149859, -0.17149859, -0.17149859, -0.17149859, -0.17149859,\n",
       "        -0.17149859, -0.17149859, -0.17149859, -0.17149859, -0.17149859,\n",
       "        -0.17149859, -0.17149859, -0.17149859, -0.17149859, -0.17149859,\n",
       "        -0.17149859, -0.17149859, -0.17149859, -0.17149859, -0.17149859,\n",
       "        -0.17149859, -0.17149859, -0.17149859, -0.17149859, -0.17149859],\n",
       "       [-1.22474487, -0.57878628,  0.02634602,  0.43985267,  0.84559263,\n",
       "        -0.17149859, -0.17149859,  5.83095189, -0.17149859, -0.17149859,\n",
       "        -0.17149859, -0.17149859, -0.17149859, -0.17149859, -0.17149859,\n",
       "        -0.17149859, -0.17149859, -0.17149859, -0.17149859, -0.17149859,\n",
       "        -0.17149859, -0.17149859, -0.17149859, -0.17149859, -0.17149859,\n",
       "        -0.17149859, -0.17149859, -0.17149859, -0.17149859, -0.17149859,\n",
       "        -0.17149859, -0.17149859, -0.17149859, -0.17149859, -0.17149859,\n",
       "        -0.17149859, -0.17149859, -0.17149859, -0.17149859, -0.17149859],\n",
       "       [ 0.        , -0.49393626,  0.42814262,  0.43985267,  0.84559263,\n",
       "        -0.17149859, -0.17149859,  5.83095189, -0.17149859, -0.17149859,\n",
       "        -0.17149859, -0.17149859, -0.17149859, -0.17149859, -0.17149859,\n",
       "        -0.17149859, -0.17149859, -0.17149859, -0.17149859, -0.17149859,\n",
       "        -0.17149859, -0.17149859, -0.17149859, -0.17149859, -0.17149859,\n",
       "        -0.17149859, -0.17149859, -0.17149859, -0.17149859, -0.17149859,\n",
       "        -0.17149859, -0.17149859, -0.17149859, -0.17149859, -0.17149859,\n",
       "        -0.17149859, -0.17149859, -0.17149859, -0.17149859, -0.17149859]])"
      ]
     },
     "execution_count": 54,
     "metadata": {},
     "output_type": "execute_result"
    }
   ],
   "source": [
    "X = preprocessing.StandardScaler().fit(X).transform(X)\n",
    "X[0:5]"
   ]
  },
  {
   "cell_type": "markdown",
   "metadata": {},
   "source": [
    "## Training and Testing set creation"
   ]
  },
  {
   "cell_type": "code",
   "execution_count": 55,
   "metadata": {},
   "outputs": [],
   "source": [
    "from sklearn.model_selection import train_test_split\n",
    "from sklearn.neighbors import KNeighborsClassifier\n",
    "from sklearn.metrics import accuracy_score\n",
    "\n",
    "X_train, X_test, y_train, y_test = train_test_split(X, y, test_size=0.35, random_state=4)"
   ]
  },
  {
   "cell_type": "markdown",
   "metadata": {},
   "source": [
    "## KNN"
   ]
  },
  {
   "cell_type": "code",
   "execution_count": 56,
   "metadata": {},
   "outputs": [],
   "source": [
    "from sklearn.neighbors import KNeighborsClassifier\n",
    "\n",
    "accuracy_per_k = {'train' : [], 'test': []}\n",
    "for k in range(1, 20):\n",
    "    neigh = KNeighborsClassifier(n_neighbors=k).fit(X_train, y_train)\n",
    "    accuracy_per_k['train'].append(accuracy_score(y_train, neigh.predict(X_train)))\n",
    "    accuracy_per_k['test'].append(accuracy_score(y_test, neigh.predict(X_test)))"
   ]
  },
  {
   "cell_type": "code",
   "execution_count": 57,
   "metadata": {},
   "outputs": [
    {
     "data": {
      "image/png": "[encoded data removed]",
      "text/plain": [
       "<Figure size 432x288 with 1 Axes>"
      ]
     },
     "metadata": {
      "needs_background": "light"
     },
     "output_type": "display_data"
    }
   ],
   "source": [
    "plt.plot(range(1, 20), accuracy_per_k['train'], 'r')\n",
    "plt.plot(range(1, 20), accuracy_per_k['test'], 'b')\n",
    "#plt.axvline(x=7)\n",
    "plt.show()"
   ]
  },
  {
   "cell_type": "code",
   "execution_count": 58,
   "metadata": {},
   "outputs": [
    {
     "name": "stdout",
     "output_type": "stream",
     "text": [
      "Train set accuracy:  0.8382352941176471\n",
      "Test set accuracy:  0.918918918918919\n"
     ]
    }
   ],
   "source": [
    "knn_model = KNeighborsClassifier(n_neighbors=7).fit(X_train, y_train)\n",
    "print(\"Train set accuracy: \", accuracy_score(y_train, knn_model.predict(X_train)))\n",
    "print(\"Test set accuracy: \", accuracy_score(y_test, knn_model.predict(X_test)))\n",
    "knn_accuracy=accuracy_score(y_test, knn_model.predict(X_test))\n",
    "knntrain_accuracy=accuracy_score(y_train, knn_model.predict(X_train))"
   ]
  },
  {
   "cell_type": "markdown",
   "metadata": {},
   "source": [
    "## Decision Tree"
   ]
  },
  {
   "cell_type": "code",
   "execution_count": 59,
   "metadata": {},
   "outputs": [
    {
     "data": {
      "image/png": "[encoded data removed]",
      "text/plain": [
       "<Figure size 432x288 with 1 Axes>"
      ]
     },
     "metadata": {
      "needs_background": "light"
     },
     "output_type": "display_data"
    }
   ],
   "source": [
    "from sklearn.tree import DecisionTreeClassifier \n",
    "\n",
    "accuracy_per_depth = {'train' : [], 'test': []}\n",
    "for k in range(1, 10):\n",
    "    tree = DecisionTreeClassifier(criterion=\"entropy\", max_depth=k).fit(X_train, y_train)\n",
    "    accuracy_per_depth['train'].append(accuracy_score(y_train, tree.predict(X_train)))\n",
    "    accuracy_per_depth['test'].append(accuracy_score(y_test, tree.predict(X_test)))\n",
    "\n",
    "plt.plot(range(1, 10), accuracy_per_depth['train'], 'r')\n",
    "plt.plot(range(1, 10), accuracy_per_depth['test'], 'b')\n",
    "plt.axvline(x=2)\n",
    "plt.show()"
   ]
  },
  {
   "cell_type": "code",
   "execution_count": 60,
   "metadata": {},
   "outputs": [
    {
     "data": {
      "text/plain": [
       "DecisionTreeClassifier(class_weight=None, criterion='entropy', max_depth=2,\n",
       "            max_features=None, max_leaf_nodes=None,\n",
       "            min_impurity_decrease=0.0, min_impurity_split=None,\n",
       "            min_samples_leaf=1, min_samples_split=2,\n",
       "            min_weight_fraction_leaf=0.0, presort=False, random_state=None,\n",
       "            splitter='best')"
      ]
     },
     "execution_count": 60,
     "metadata": {},
     "output_type": "execute_result"
    }
   ],
   "source": [
    "tree_model = DecisionTreeClassifier(criterion=\"entropy\", max_depth=2).fit(X_train, y_train)\n",
    "tree_model"
   ]
  },
  {
   "cell_type": "code",
   "execution_count": 61,
   "metadata": {},
   "outputs": [
    {
     "name": "stdout",
     "output_type": "stream",
     "text": [
      "Train set accuracy:  0.9558823529411765\n",
      "Test set accuracy:  0.8648648648648649\n"
     ]
    }
   ],
   "source": [
    "print(\"Train set accuracy: \", accuracy_score(y_train, tree_model.predict(X_train)))\n",
    "print(\"Test set accuracy: \", accuracy_score(y_test, tree_model.predict(X_test)))\n",
    "dtree_accuracy=accuracy_score(y_test, tree_model.predict(X_test))\n",
    "dtreetrain_accuracy=accuracy_score(y_train, tree_model.predict(X_train))"
   ]
  },
  {
   "cell_type": "markdown",
   "metadata": {},
   "source": [
    "## SVM"
   ]
  },
  {
   "cell_type": "code",
   "execution_count": 62,
   "metadata": {},
   "outputs": [
    {
     "name": "stderr",
     "output_type": "stream",
     "text": [
      "C:\\Users\\Satya Teja\\Anaconda3\\lib\\site-packages\\sklearn\\svm\\base.py:196: FutureWarning: The default value of gamma will change from 'auto' to 'scale' in version 0.22 to account better for unscaled features. Set gamma explicitly to 'auto' or 'scale' to avoid this warning.\n",
      "  \"avoid this warning.\", FutureWarning)\n"
     ]
    },
    {
     "data": {
      "text/plain": [
       "SVC(C=1.0, cache_size=200, class_weight=None, coef0=0.0,\n",
       "  decision_function_shape='ovr', degree=3, gamma='auto_deprecated',\n",
       "  kernel='rbf', max_iter=-1, probability=True, random_state=None,\n",
       "  shrinking=True, tol=0.001, verbose=False)"
      ]
     },
     "execution_count": 62,
     "metadata": {},
     "output_type": "execute_result"
    }
   ],
   "source": [
    "from sklearn import svm\n",
    "svm_model = svm.SVC(probability=True).fit(X_train, y_train)\n",
    "svm_model"
   ]
  },
  {
   "cell_type": "code",
   "execution_count": 63,
   "metadata": {},
   "outputs": [
    {
     "name": "stdout",
     "output_type": "stream",
     "text": [
      "Test set accuracy:  0.6486486486486487\n"
     ]
    }
   ],
   "source": [
    "svm_accuracy=accuracy_score(y_test, svm_model.predict(X_test))\n",
    "svmtrain_accuracy=accuracy_score(y_train, svm_model.predict(X_train))\n",
    "print(\"Test set accuracy: \", svm_accuracy)"
   ]
  },
  {
   "cell_type": "markdown",
   "metadata": {},
   "source": [
    "## Further testing the models with realtime data "
   ]
  },
  {
   "cell_type": "markdown",
   "metadata": {},
   "source": [
    "Open the csv file named test_data.csv and enter the data for which you need the prediction like the sample data I have created here and then run the codes below line by line to check upon real data prediction.."
   ]
  },
  {
   "cell_type": "code",
   "execution_count": 64,
   "metadata": {},
   "outputs": [
    {
     "data": {
      "text/html": [
       "<div>\n",
       "<style scoped>\n",
       "    .dataframe tbody tr th:only-of-type {\n",
       "        vertical-align: middle;\n",
       "    }\n",
       "\n",
       "    .dataframe tbody tr th {\n",
       "        vertical-align: top;\n",
       "    }\n",
       "\n",
       "    .dataframe thead th {\n",
       "        text-align: right;\n",
       "    }\n",
       "</style>\n",
       "<table border=\"1\" class=\"dataframe\">\n",
       "  <thead>\n",
       "    <tr style=\"text-align: right;\">\n",
       "      <th></th>\n",
       "      <th>Crop</th>\n",
       "      <th>Profit</th>\n",
       "      <th>Yield</th>\n",
       "      <th>Month of highest rainfall</th>\n",
       "      <th>Month of lowest rainfall</th>\n",
       "      <th>A &amp; N Islands</th>\n",
       "      <th>Andhra Pradesh</th>\n",
       "      <th>Arunachal Pradesh</th>\n",
       "      <th>Assam</th>\n",
       "      <th>Bihar</th>\n",
       "      <th>...</th>\n",
       "      <th>Orissa</th>\n",
       "      <th>Puducherry</th>\n",
       "      <th>Punjab</th>\n",
       "      <th>Rajasthan</th>\n",
       "      <th>Sikkim</th>\n",
       "      <th>Tamil Nadu</th>\n",
       "      <th>Tripura</th>\n",
       "      <th>Uttar Pradesh</th>\n",
       "      <th>Uttarakhand</th>\n",
       "      <th>West Bengal</th>\n",
       "    </tr>\n",
       "  </thead>\n",
       "  <tbody>\n",
       "    <tr>\n",
       "      <th>0</th>\n",
       "      <td>Rice</td>\n",
       "      <td>730.0</td>\n",
       "      <td>1177</td>\n",
       "      <td>7</td>\n",
       "      <td>12</td>\n",
       "      <td>0</td>\n",
       "      <td>1</td>\n",
       "      <td>0</td>\n",
       "      <td>0</td>\n",
       "      <td>0</td>\n",
       "      <td>...</td>\n",
       "      <td>0</td>\n",
       "      <td>0</td>\n",
       "      <td>0</td>\n",
       "      <td>0</td>\n",
       "      <td>0</td>\n",
       "      <td>0</td>\n",
       "      <td>0</td>\n",
       "      <td>0</td>\n",
       "      <td>0</td>\n",
       "      <td>0</td>\n",
       "    </tr>\n",
       "    <tr>\n",
       "      <th>1</th>\n",
       "      <td>Wheat</td>\n",
       "      <td>1.0</td>\n",
       "      <td>1876</td>\n",
       "      <td>7</td>\n",
       "      <td>12</td>\n",
       "      <td>1</td>\n",
       "      <td>0</td>\n",
       "      <td>0</td>\n",
       "      <td>0</td>\n",
       "      <td>0</td>\n",
       "      <td>...</td>\n",
       "      <td>0</td>\n",
       "      <td>0</td>\n",
       "      <td>0</td>\n",
       "      <td>0</td>\n",
       "      <td>0</td>\n",
       "      <td>0</td>\n",
       "      <td>0</td>\n",
       "      <td>0</td>\n",
       "      <td>0</td>\n",
       "      <td>0</td>\n",
       "    </tr>\n",
       "    <tr>\n",
       "      <th>2</th>\n",
       "      <td>Cotton</td>\n",
       "      <td>1.0</td>\n",
       "      <td>136</td>\n",
       "      <td>7</td>\n",
       "      <td>12</td>\n",
       "      <td>0</td>\n",
       "      <td>0</td>\n",
       "      <td>0</td>\n",
       "      <td>1</td>\n",
       "      <td>0</td>\n",
       "      <td>...</td>\n",
       "      <td>0</td>\n",
       "      <td>0</td>\n",
       "      <td>0</td>\n",
       "      <td>0</td>\n",
       "      <td>0</td>\n",
       "      <td>0</td>\n",
       "      <td>0</td>\n",
       "      <td>0</td>\n",
       "      <td>0</td>\n",
       "      <td>0</td>\n",
       "    </tr>\n",
       "    <tr>\n",
       "      <th>3</th>\n",
       "      <td>Rice</td>\n",
       "      <td>30230.0</td>\n",
       "      <td>2652</td>\n",
       "      <td>7</td>\n",
       "      <td>1</td>\n",
       "      <td>0</td>\n",
       "      <td>0</td>\n",
       "      <td>0</td>\n",
       "      <td>0</td>\n",
       "      <td>0</td>\n",
       "      <td>...</td>\n",
       "      <td>0</td>\n",
       "      <td>0</td>\n",
       "      <td>0</td>\n",
       "      <td>0</td>\n",
       "      <td>0</td>\n",
       "      <td>0</td>\n",
       "      <td>0</td>\n",
       "      <td>0</td>\n",
       "      <td>0</td>\n",
       "      <td>0</td>\n",
       "    </tr>\n",
       "    <tr>\n",
       "      <th>4</th>\n",
       "      <td>Wheat</td>\n",
       "      <td>-1.0</td>\n",
       "      <td>996</td>\n",
       "      <td>7</td>\n",
       "      <td>1</td>\n",
       "      <td>0</td>\n",
       "      <td>0</td>\n",
       "      <td>0</td>\n",
       "      <td>0</td>\n",
       "      <td>0</td>\n",
       "      <td>...</td>\n",
       "      <td>0</td>\n",
       "      <td>0</td>\n",
       "      <td>0</td>\n",
       "      <td>0</td>\n",
       "      <td>0</td>\n",
       "      <td>0</td>\n",
       "      <td>0</td>\n",
       "      <td>0</td>\n",
       "      <td>0</td>\n",
       "      <td>0</td>\n",
       "    </tr>\n",
       "  </tbody>\n",
       "</table>\n",
       "<p>5 rows × 40 columns</p>\n",
       "</div>"
      ],
      "text/plain": [
       "     Crop   Profit  Yield  Month of highest rainfall  \\\n",
       "0    Rice    730.0   1177                          7   \n",
       "1   Wheat      1.0   1876                          7   \n",
       "2  Cotton      1.0    136                          7   \n",
       "3    Rice  30230.0   2652                          7   \n",
       "4   Wheat     -1.0    996                          7   \n",
       "\n",
       "   Month of lowest rainfall  A & N Islands  Andhra Pradesh  Arunachal Pradesh  \\\n",
       "0                        12              0               1                  0   \n",
       "1                        12              1               0                  0   \n",
       "2                        12              0               0                  0   \n",
       "3                         1              0               0                  0   \n",
       "4                         1              0               0                  0   \n",
       "\n",
       "   Assam  Bihar     ...       Orissa  Puducherry  Punjab  Rajasthan  Sikkim  \\\n",
       "0      0      0     ...            0           0       0          0       0   \n",
       "1      0      0     ...            0           0       0          0       0   \n",
       "2      1      0     ...            0           0       0          0       0   \n",
       "3      0      0     ...            0           0       0          0       0   \n",
       "4      0      0     ...            0           0       0          0       0   \n",
       "\n",
       "   Tamil Nadu  Tripura   Uttar Pradesh  Uttarakhand  West Bengal  \n",
       "0           0         0              0            0            0  \n",
       "1           0         0              0            0            0  \n",
       "2           0         0              0            0            0  \n",
       "3           0         0              0            0            0  \n",
       "4           0         0              0            0            0  \n",
       "\n",
       "[5 rows x 40 columns]"
      ]
     },
     "execution_count": 64,
     "metadata": {},
     "output_type": "execute_result"
    }
   ],
   "source": [
    "testdf=pd.read_csv('test_data.csv')\n",
    "testdf.head()"
   ]
  },
  {
   "cell_type": "code",
   "execution_count": 65,
   "metadata": {},
   "outputs": [
    {
     "data": {
      "text/html": [
       "<div>\n",
       "<style scoped>\n",
       "    .dataframe tbody tr th:only-of-type {\n",
       "        vertical-align: middle;\n",
       "    }\n",
       "\n",
       "    .dataframe tbody tr th {\n",
       "        vertical-align: top;\n",
       "    }\n",
       "\n",
       "    .dataframe thead th {\n",
       "        text-align: right;\n",
       "    }\n",
       "</style>\n",
       "<table border=\"1\" class=\"dataframe\">\n",
       "  <thead>\n",
       "    <tr style=\"text-align: right;\">\n",
       "      <th></th>\n",
       "      <th>Crop</th>\n",
       "      <th>Profit</th>\n",
       "      <th>Yield</th>\n",
       "      <th>Month of highest rainfall</th>\n",
       "      <th>Month of lowest rainfall</th>\n",
       "      <th>A &amp; N Islands</th>\n",
       "      <th>Andhra Pradesh</th>\n",
       "      <th>Arunachal Pradesh</th>\n",
       "      <th>Assam</th>\n",
       "      <th>Bihar</th>\n",
       "      <th>...</th>\n",
       "      <th>Orissa</th>\n",
       "      <th>Puducherry</th>\n",
       "      <th>Punjab</th>\n",
       "      <th>Rajasthan</th>\n",
       "      <th>Sikkim</th>\n",
       "      <th>Tamil Nadu</th>\n",
       "      <th>Tripura</th>\n",
       "      <th>Uttar Pradesh</th>\n",
       "      <th>Uttarakhand</th>\n",
       "      <th>West Bengal</th>\n",
       "    </tr>\n",
       "  </thead>\n",
       "  <tbody>\n",
       "    <tr>\n",
       "      <th>0</th>\n",
       "      <td>0</td>\n",
       "      <td>730.0</td>\n",
       "      <td>1177</td>\n",
       "      <td>7</td>\n",
       "      <td>12</td>\n",
       "      <td>0</td>\n",
       "      <td>1</td>\n",
       "      <td>0</td>\n",
       "      <td>0</td>\n",
       "      <td>0</td>\n",
       "      <td>...</td>\n",
       "      <td>0</td>\n",
       "      <td>0</td>\n",
       "      <td>0</td>\n",
       "      <td>0</td>\n",
       "      <td>0</td>\n",
       "      <td>0</td>\n",
       "      <td>0</td>\n",
       "      <td>0</td>\n",
       "      <td>0</td>\n",
       "      <td>0</td>\n",
       "    </tr>\n",
       "    <tr>\n",
       "      <th>1</th>\n",
       "      <td>1</td>\n",
       "      <td>1.0</td>\n",
       "      <td>1876</td>\n",
       "      <td>7</td>\n",
       "      <td>12</td>\n",
       "      <td>1</td>\n",
       "      <td>0</td>\n",
       "      <td>0</td>\n",
       "      <td>0</td>\n",
       "      <td>0</td>\n",
       "      <td>...</td>\n",
       "      <td>0</td>\n",
       "      <td>0</td>\n",
       "      <td>0</td>\n",
       "      <td>0</td>\n",
       "      <td>0</td>\n",
       "      <td>0</td>\n",
       "      <td>0</td>\n",
       "      <td>0</td>\n",
       "      <td>0</td>\n",
       "      <td>0</td>\n",
       "    </tr>\n",
       "    <tr>\n",
       "      <th>2</th>\n",
       "      <td>2</td>\n",
       "      <td>1.0</td>\n",
       "      <td>136</td>\n",
       "      <td>7</td>\n",
       "      <td>12</td>\n",
       "      <td>0</td>\n",
       "      <td>0</td>\n",
       "      <td>0</td>\n",
       "      <td>1</td>\n",
       "      <td>0</td>\n",
       "      <td>...</td>\n",
       "      <td>0</td>\n",
       "      <td>0</td>\n",
       "      <td>0</td>\n",
       "      <td>0</td>\n",
       "      <td>0</td>\n",
       "      <td>0</td>\n",
       "      <td>0</td>\n",
       "      <td>0</td>\n",
       "      <td>0</td>\n",
       "      <td>0</td>\n",
       "    </tr>\n",
       "    <tr>\n",
       "      <th>3</th>\n",
       "      <td>0</td>\n",
       "      <td>30230.0</td>\n",
       "      <td>2652</td>\n",
       "      <td>7</td>\n",
       "      <td>1</td>\n",
       "      <td>0</td>\n",
       "      <td>0</td>\n",
       "      <td>0</td>\n",
       "      <td>0</td>\n",
       "      <td>0</td>\n",
       "      <td>...</td>\n",
       "      <td>0</td>\n",
       "      <td>0</td>\n",
       "      <td>0</td>\n",
       "      <td>0</td>\n",
       "      <td>0</td>\n",
       "      <td>0</td>\n",
       "      <td>0</td>\n",
       "      <td>0</td>\n",
       "      <td>0</td>\n",
       "      <td>0</td>\n",
       "    </tr>\n",
       "    <tr>\n",
       "      <th>4</th>\n",
       "      <td>1</td>\n",
       "      <td>-1.0</td>\n",
       "      <td>996</td>\n",
       "      <td>7</td>\n",
       "      <td>1</td>\n",
       "      <td>0</td>\n",
       "      <td>0</td>\n",
       "      <td>0</td>\n",
       "      <td>0</td>\n",
       "      <td>0</td>\n",
       "      <td>...</td>\n",
       "      <td>0</td>\n",
       "      <td>0</td>\n",
       "      <td>0</td>\n",
       "      <td>0</td>\n",
       "      <td>0</td>\n",
       "      <td>0</td>\n",
       "      <td>0</td>\n",
       "      <td>0</td>\n",
       "      <td>0</td>\n",
       "      <td>0</td>\n",
       "    </tr>\n",
       "  </tbody>\n",
       "</table>\n",
       "<p>5 rows × 40 columns</p>\n",
       "</div>"
      ],
      "text/plain": [
       "   Crop   Profit  Yield  Month of highest rainfall  Month of lowest rainfall  \\\n",
       "0     0    730.0   1177                          7                        12   \n",
       "1     1      1.0   1876                          7                        12   \n",
       "2     2      1.0    136                          7                        12   \n",
       "3     0  30230.0   2652                          7                         1   \n",
       "4     1     -1.0    996                          7                         1   \n",
       "\n",
       "   A & N Islands  Andhra Pradesh  Arunachal Pradesh  Assam  Bihar  \\\n",
       "0              0               1                  0      0      0   \n",
       "1              1               0                  0      0      0   \n",
       "2              0               0                  0      1      0   \n",
       "3              0               0                  0      0      0   \n",
       "4              0               0                  0      0      0   \n",
       "\n",
       "      ...       Orissa  Puducherry  Punjab  Rajasthan  Sikkim  Tamil Nadu  \\\n",
       "0     ...            0           0       0          0       0           0   \n",
       "1     ...            0           0       0          0       0           0   \n",
       "2     ...            0           0       0          0       0           0   \n",
       "3     ...            0           0       0          0       0           0   \n",
       "4     ...            0           0       0          0       0           0   \n",
       "\n",
       "   Tripura   Uttar Pradesh  Uttarakhand  West Bengal  \n",
       "0         0              0            0            0  \n",
       "1         0              0            0            0  \n",
       "2         0              0            0            0  \n",
       "3         0              0            0            0  \n",
       "4         0              0            0            0  \n",
       "\n",
       "[5 rows x 40 columns]"
      ]
     },
     "execution_count": 65,
     "metadata": {},
     "output_type": "execute_result"
    }
   ],
   "source": [
    "testdf['Crop'].replace(to_replace=['Rice','Wheat','Cotton'], value=[0,1,2],inplace=True)\n",
    "testdf.head()"
   ]
  },
  {
   "cell_type": "code",
   "execution_count": 66,
   "metadata": {},
   "outputs": [
    {
     "name": "stdout",
     "output_type": "stream",
     "text": [
      "Suggested\n",
      "Suggested\n",
      "Suggested\n",
      "Suggested\n",
      "Not Suggested\n",
      "Not Suggested\n",
      "Suggested\n",
      "Suggested\n",
      "Suggested\n",
      "Suggested\n",
      "Suggested\n",
      "Suggested\n"
     ]
    }
   ],
   "source": [
    "#Prediction using Decision Tree\n",
    "treelist=tree_model.predict(testdf)\n",
    "length=len(treelist)\n",
    "for i in range(length):\n",
    "    if(treelist[i]==0):\n",
    "        print(\"Not Suggested\")\n",
    "    elif(treelist[i]==1):\n",
    "        print(\"Suggested\")"
   ]
  },
  {
   "cell_type": "code",
   "execution_count": 67,
   "metadata": {},
   "outputs": [
    {
     "name": "stdout",
     "output_type": "stream",
     "text": [
      "Suggested\n",
      "Suggested\n",
      "Suggested\n",
      "Suggested\n",
      "Suggested\n",
      "Not Suggested\n",
      "Suggested\n",
      "Suggested\n",
      "Suggested\n",
      "Suggested\n",
      "Suggested\n",
      "Suggested\n"
     ]
    }
   ],
   "source": [
    "#Prediction using KNN\n",
    "knnlist=knn_model.predict(testdf)\n",
    "length2=len(knnlist)\n",
    "for i in range(length2):\n",
    "    if(knnlist[i]==0):\n",
    "        print(\"Not Suggested\")\n",
    "    elif(knnlist[i]==1):\n",
    "        print(\"Suggested\")"
   ]
  },
  {
   "cell_type": "code",
   "execution_count": 68,
   "metadata": {},
   "outputs": [
    {
     "name": "stdout",
     "output_type": "stream",
     "text": [
      "Suggested\n",
      "Suggested\n",
      "Suggested\n",
      "Suggested\n",
      "Suggested\n",
      "Not Suggested\n",
      "Suggested\n",
      "Suggested\n",
      "Suggested\n",
      "Suggested\n",
      "Suggested\n",
      "Suggested\n"
     ]
    }
   ],
   "source": [
    "#Prediction using svm\n",
    "svmlist=svm_model.predict(testdf)\n",
    "length3=len(svmlist)\n",
    "for i in range(length3):\n",
    "    if(svmlist[i]==0):\n",
    "        print(\"Not Suggested\")\n",
    "    elif(svmlist[i]==1):\n",
    "        print(\"Suggested\")"
   ]
  },
  {
   "cell_type": "markdown",
   "metadata": {},
   "source": [
    "# FINAL REPORT"
   ]
  },
  {
   "cell_type": "code",
   "execution_count": 69,
   "metadata": {
    "scrolled": true
   },
   "outputs": [
    {
     "data": {
      "text/html": [
       "<div>\n",
       "<style scoped>\n",
       "    .dataframe tbody tr th:only-of-type {\n",
       "        vertical-align: middle;\n",
       "    }\n",
       "\n",
       "    .dataframe tbody tr th {\n",
       "        vertical-align: top;\n",
       "    }\n",
       "\n",
       "    .dataframe thead th {\n",
       "        text-align: right;\n",
       "    }\n",
       "</style>\n",
       "<table border=\"1\" class=\"dataframe\">\n",
       "  <thead>\n",
       "    <tr style=\"text-align: right;\">\n",
       "      <th></th>\n",
       "      <th>Algorithm</th>\n",
       "      <th>Test Accuracy</th>\n",
       "      <th>Training Accuracy</th>\n",
       "    </tr>\n",
       "  </thead>\n",
       "  <tbody>\n",
       "    <tr>\n",
       "      <th>0</th>\n",
       "      <td>KNN</td>\n",
       "      <td>0.918919</td>\n",
       "      <td>0.838235</td>\n",
       "    </tr>\n",
       "    <tr>\n",
       "      <th>1</th>\n",
       "      <td>Decision Tree</td>\n",
       "      <td>0.864865</td>\n",
       "      <td>0.955882</td>\n",
       "    </tr>\n",
       "    <tr>\n",
       "      <th>2</th>\n",
       "      <td>SVM</td>\n",
       "      <td>0.648649</td>\n",
       "      <td>0.955882</td>\n",
       "    </tr>\n",
       "  </tbody>\n",
       "</table>\n",
       "</div>"
      ],
      "text/plain": [
       "       Algorithm  Test Accuracy  Training Accuracy\n",
       "0            KNN       0.918919           0.838235\n",
       "1  Decision Tree       0.864865           0.955882\n",
       "2            SVM       0.648649           0.955882"
      ]
     },
     "execution_count": 69,
     "metadata": {},
     "output_type": "execute_result"
    }
   ],
   "source": [
    "# report\n",
    "report_data = [\n",
    "            {'Algorithm':'KNN', 'Test Accuracy': knn_accuracy,'Training Accuracy': knntrain_accuracy},\n",
    "            {'Algorithm':'Decision Tree', 'Test Accuracy': dtree_accuracy,'Training Accuracy': dtreetrain_accuracy},\n",
    "            {'Algorithm':'SVM', 'Test Accuracy': svm_accuracy,'Training Accuracy': svmtrain_accuracy}\n",
    "         ] \n",
    "report_df = pd.DataFrame(report_data)\n",
    "report_df"
   ]
  },
  {
   "cell_type": "code",
   "execution_count": 70,
   "metadata": {},
   "outputs": [
    {
     "name": "stdout",
     "output_type": "stream",
     "text": [
      "Hence, KNN is preferred for its comparatively good performance with this data.\n"
     ]
    }
   ],
   "source": [
    "if(knn_accuracy>dtree_accuracy and knn_accuracy>svm_accuracy):\n",
    "    print('Hence, KNN is preferred for its comparatively good performance with this data.')\n",
    "elif(svm_accuracy>dtree_accuracy):\n",
    "    print('Hence, SVM is preferred for its comparatively good performance with this data.')\n",
    "else:\n",
    "    print('Hence, Decision Tree is preferred for its comparatively good performance with this data.')    "
   ]
  },
  {
   "cell_type": "markdown",
   "metadata": {},
   "source": [
    "<h1><center>---------------------------------------------------------------------------------------</center></h1>\n",
    "<h1><center>---------------------------------------------------------------------------------------</center></h1>"
   ]
  }
 ],
 "metadata": {
  "kernelspec": {
   "display_name": "Python 3",
   "language": "python",
   "name": "python3"
  },
  "language_info": {
   "codemirror_mode": {
    "name": "ipython",
    "version": 3
   },
   "file_extension": ".py",
   "mimetype": "text/x-python",
   "name": "python",
   "nbconvert_exporter": "python",
   "pygments_lexer": "ipython3",
   "version": "3.7.1"
  }
 },
 "nbformat": 4,
 "nbformat_minor": 2
}
